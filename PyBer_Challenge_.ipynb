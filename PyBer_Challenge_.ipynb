{
 "cells": [
  {
   "cell_type": "markdown",
   "metadata": {},
   "source": [
    "# Pyber Challenge"
   ]
  },
  {
   "cell_type": "markdown",
   "metadata": {},
   "source": [
    "### 4.3 Loading and Reading CSV files"
   ]
  },
  {
   "cell_type": "code",
<<<<<<< HEAD
   "execution_count": 2,
=======
   "execution_count": 425,
>>>>>>> 0ae94ebd354c64d16cdd027749df350cfd06e54e
   "metadata": {},
   "outputs": [],
   "source": [
    "# Add Matplotlib inline magic command\n",
    "%matplotlib inline\n",
    "# Dependencies and Setup\n",
    "import matplotlib.pyplot as plt\n",
    "import pandas as pd\n",
    "import numpy as np\n",
    "\n",
    "# File to Load (Remember to change these)\n",
    "city_data_to_load = \"Resources/city_data.csv\"\n",
    "ride_data_to_load = \"Resources/ride_data.csv\"\n",
    "\n",
    "# Read the City and Ride Data\n",
    "city_data_df = pd.read_csv(city_data_to_load)\n",
    "ride_data_df = pd.read_csv(ride_data_to_load)"
   ]
  },
  {
   "cell_type": "markdown",
   "metadata": {},
   "source": [
    "### Merge the DataFrames"
   ]
  },
  {
   "cell_type": "code",
<<<<<<< HEAD
   "execution_count": 3,
=======
   "execution_count": 426,
>>>>>>> 0ae94ebd354c64d16cdd027749df350cfd06e54e
   "metadata": {
    "scrolled": true
   },
   "outputs": [
    {
     "data": {
      "text/html": [
       "<div>\n",
       "<style scoped>\n",
       "    .dataframe tbody tr th:only-of-type {\n",
       "        vertical-align: middle;\n",
       "    }\n",
       "\n",
       "    .dataframe tbody tr th {\n",
       "        vertical-align: top;\n",
       "    }\n",
       "\n",
       "    .dataframe thead th {\n",
       "        text-align: right;\n",
       "    }\n",
       "</style>\n",
       "<table border=\"1\" class=\"dataframe\">\n",
       "  <thead>\n",
       "    <tr style=\"text-align: right;\">\n",
       "      <th></th>\n",
       "      <th>city</th>\n",
       "      <th>date</th>\n",
       "      <th>fare</th>\n",
       "      <th>ride_id</th>\n",
       "      <th>driver_count</th>\n",
       "      <th>type</th>\n",
       "    </tr>\n",
       "  </thead>\n",
       "  <tbody>\n",
       "    <tr>\n",
       "      <th>2355</th>\n",
       "      <td>North Holly</td>\n",
       "      <td>1/3/2019 19:51</td>\n",
       "      <td>19.90</td>\n",
       "      <td>5.559510e+12</td>\n",
       "      <td>8</td>\n",
       "      <td>Rural</td>\n",
       "    </tr>\n",
       "    <tr>\n",
       "      <th>2356</th>\n",
       "      <td>New Ryantown</td>\n",
       "      <td>5/5/2019 19:29</td>\n",
       "      <td>26.53</td>\n",
       "      <td>2.302210e+12</td>\n",
       "      <td>2</td>\n",
       "      <td>Rural</td>\n",
       "    </tr>\n",
       "    <tr>\n",
       "      <th>2357</th>\n",
       "      <td>West Heather</td>\n",
       "      <td>2/2/2019 6:28</td>\n",
       "      <td>53.07</td>\n",
       "      <td>2.462950e+12</td>\n",
       "      <td>4</td>\n",
       "      <td>Rural</td>\n",
       "    </tr>\n",
       "    <tr>\n",
       "      <th>2358</th>\n",
       "      <td>Lake Latoyabury</td>\n",
       "      <td>2/25/2019 4:10</td>\n",
       "      <td>16.18</td>\n",
       "      <td>8.492920e+12</td>\n",
       "      <td>2</td>\n",
       "      <td>Rural</td>\n",
       "    </tr>\n",
       "    <tr>\n",
       "      <th>2359</th>\n",
       "      <td>South Marychester</td>\n",
       "      <td>1/19/2019 11:40</td>\n",
       "      <td>49.44</td>\n",
       "      <td>9.005882e+10</td>\n",
       "      <td>1</td>\n",
       "      <td>Rural</td>\n",
       "    </tr>\n",
       "    <tr>\n",
       "      <th>2360</th>\n",
       "      <td>Jessicaport</td>\n",
       "      <td>1/31/2019 17:57</td>\n",
       "      <td>58.29</td>\n",
       "      <td>6.231550e+11</td>\n",
       "      <td>1</td>\n",
       "      <td>Rural</td>\n",
       "    </tr>\n",
       "    <tr>\n",
       "      <th>2361</th>\n",
       "      <td>Michaelberg</td>\n",
       "      <td>3/22/2019 22:20</td>\n",
       "      <td>38.30</td>\n",
       "      <td>8.032730e+12</td>\n",
       "      <td>6</td>\n",
       "      <td>Rural</td>\n",
       "    </tr>\n",
       "    <tr>\n",
       "      <th>2362</th>\n",
       "      <td>North Holly</td>\n",
       "      <td>4/18/2019 19:26</td>\n",
       "      <td>30.94</td>\n",
       "      <td>3.441060e+12</td>\n",
       "      <td>8</td>\n",
       "      <td>Rural</td>\n",
       "    </tr>\n",
       "    <tr>\n",
       "      <th>2363</th>\n",
       "      <td>Michaelberg</td>\n",
       "      <td>3/13/2019 14:40</td>\n",
       "      <td>37.72</td>\n",
       "      <td>8.842610e+12</td>\n",
       "      <td>6</td>\n",
       "      <td>Rural</td>\n",
       "    </tr>\n",
       "    <tr>\n",
       "      <th>2364</th>\n",
       "      <td>Lake Jamie</td>\n",
       "      <td>2/25/2019 23:46</td>\n",
       "      <td>28.65</td>\n",
       "      <td>5.815760e+12</td>\n",
       "      <td>4</td>\n",
       "      <td>Rural</td>\n",
       "    </tr>\n",
       "    <tr>\n",
       "      <th>2365</th>\n",
       "      <td>Lake Jamie</td>\n",
       "      <td>4/19/2019 4:32</td>\n",
       "      <td>16.29</td>\n",
       "      <td>3.518680e+12</td>\n",
       "      <td>4</td>\n",
       "      <td>Rural</td>\n",
       "    </tr>\n",
       "    <tr>\n",
       "      <th>2366</th>\n",
       "      <td>North Holly</td>\n",
       "      <td>3/18/2019 10:38</td>\n",
       "      <td>40.34</td>\n",
       "      <td>3.787780e+12</td>\n",
       "      <td>8</td>\n",
       "      <td>Rural</td>\n",
       "    </tr>\n",
       "    <tr>\n",
       "      <th>2367</th>\n",
       "      <td>Michaelberg</td>\n",
       "      <td>1/27/2019 18:43</td>\n",
       "      <td>38.42</td>\n",
       "      <td>8.626220e+11</td>\n",
       "      <td>6</td>\n",
       "      <td>Rural</td>\n",
       "    </tr>\n",
       "    <tr>\n",
       "      <th>2368</th>\n",
       "      <td>Lake Jamie</td>\n",
       "      <td>4/29/2019 1:58</td>\n",
       "      <td>54.22</td>\n",
       "      <td>2.489260e+12</td>\n",
       "      <td>4</td>\n",
       "      <td>Rural</td>\n",
       "    </tr>\n",
       "    <tr>\n",
       "      <th>2369</th>\n",
       "      <td>Bradshawfurt</td>\n",
       "      <td>1/30/2019 10:55</td>\n",
       "      <td>51.39</td>\n",
       "      <td>1.328270e+12</td>\n",
       "      <td>7</td>\n",
       "      <td>Rural</td>\n",
       "    </tr>\n",
       "    <tr>\n",
       "      <th>2370</th>\n",
       "      <td>Michaelberg</td>\n",
       "      <td>4/29/2019 17:04</td>\n",
       "      <td>13.38</td>\n",
       "      <td>8.550370e+12</td>\n",
       "      <td>6</td>\n",
       "      <td>Rural</td>\n",
       "    </tr>\n",
       "    <tr>\n",
       "      <th>2371</th>\n",
       "      <td>Lake Latoyabury</td>\n",
       "      <td>1/30/2019 0:05</td>\n",
       "      <td>20.76</td>\n",
       "      <td>9.018730e+12</td>\n",
       "      <td>2</td>\n",
       "      <td>Rural</td>\n",
       "    </tr>\n",
       "    <tr>\n",
       "      <th>2372</th>\n",
       "      <td>North Jaime</td>\n",
       "      <td>2/10/2019 21:03</td>\n",
       "      <td>11.11</td>\n",
       "      <td>2.781340e+12</td>\n",
       "      <td>1</td>\n",
       "      <td>Rural</td>\n",
       "    </tr>\n",
       "    <tr>\n",
       "      <th>2373</th>\n",
       "      <td>West Heather</td>\n",
       "      <td>5/7/2019 19:22</td>\n",
       "      <td>44.94</td>\n",
       "      <td>4.256850e+12</td>\n",
       "      <td>4</td>\n",
       "      <td>Rural</td>\n",
       "    </tr>\n",
       "    <tr>\n",
       "      <th>2374</th>\n",
       "      <td>Newtonview</td>\n",
       "      <td>4/25/2019 10:20</td>\n",
       "      <td>55.84</td>\n",
       "      <td>9.990580e+12</td>\n",
       "      <td>1</td>\n",
       "      <td>Rural</td>\n",
       "    </tr>\n",
       "  </tbody>\n",
       "</table>\n",
       "</div>"
      ],
      "text/plain": [
       "                   city             date   fare       ride_id  driver_count  \\\n",
       "2355        North Holly   1/3/2019 19:51  19.90  5.559510e+12             8   \n",
       "2356       New Ryantown   5/5/2019 19:29  26.53  2.302210e+12             2   \n",
       "2357       West Heather    2/2/2019 6:28  53.07  2.462950e+12             4   \n",
       "2358    Lake Latoyabury   2/25/2019 4:10  16.18  8.492920e+12             2   \n",
       "2359  South Marychester  1/19/2019 11:40  49.44  9.005882e+10             1   \n",
       "2360        Jessicaport  1/31/2019 17:57  58.29  6.231550e+11             1   \n",
       "2361        Michaelberg  3/22/2019 22:20  38.30  8.032730e+12             6   \n",
       "2362        North Holly  4/18/2019 19:26  30.94  3.441060e+12             8   \n",
       "2363        Michaelberg  3/13/2019 14:40  37.72  8.842610e+12             6   \n",
       "2364         Lake Jamie  2/25/2019 23:46  28.65  5.815760e+12             4   \n",
       "2365         Lake Jamie   4/19/2019 4:32  16.29  3.518680e+12             4   \n",
       "2366        North Holly  3/18/2019 10:38  40.34  3.787780e+12             8   \n",
       "2367        Michaelberg  1/27/2019 18:43  38.42  8.626220e+11             6   \n",
       "2368         Lake Jamie   4/29/2019 1:58  54.22  2.489260e+12             4   \n",
       "2369       Bradshawfurt  1/30/2019 10:55  51.39  1.328270e+12             7   \n",
       "2370        Michaelberg  4/29/2019 17:04  13.38  8.550370e+12             6   \n",
       "2371    Lake Latoyabury   1/30/2019 0:05  20.76  9.018730e+12             2   \n",
       "2372        North Jaime  2/10/2019 21:03  11.11  2.781340e+12             1   \n",
       "2373       West Heather   5/7/2019 19:22  44.94  4.256850e+12             4   \n",
       "2374         Newtonview  4/25/2019 10:20  55.84  9.990580e+12             1   \n",
       "\n",
       "       type  \n",
       "2355  Rural  \n",
       "2356  Rural  \n",
       "2357  Rural  \n",
       "2358  Rural  \n",
       "2359  Rural  \n",
       "2360  Rural  \n",
       "2361  Rural  \n",
       "2362  Rural  \n",
       "2363  Rural  \n",
       "2364  Rural  \n",
       "2365  Rural  \n",
       "2366  Rural  \n",
       "2367  Rural  \n",
       "2368  Rural  \n",
       "2369  Rural  \n",
       "2370  Rural  \n",
       "2371  Rural  \n",
       "2372  Rural  \n",
       "2373  Rural  \n",
       "2374  Rural  "
      ]
     },
<<<<<<< HEAD
     "execution_count": 3,
=======
     "execution_count": 426,
>>>>>>> 0ae94ebd354c64d16cdd027749df350cfd06e54e
     "metadata": {},
     "output_type": "execute_result"
    }
   ],
   "source": [
    "# Combine the data into a single dataset\n",
    "pyber_data_df = pd.merge(ride_data_df, city_data_df, how=\"left\", on=[\"city\", \"city\"])\n",
    "\n",
    "# Display the data table for preview\n",
    "pyber_data_df.tail(20)\n"
   ]
  },
  {
   "cell_type": "markdown",
   "metadata": {},
   "source": [
    "## Deliverable 1: Get a Summary DataFrame "
   ]
  },
  {
   "cell_type": "code",
<<<<<<< HEAD
   "execution_count": 4,
=======
   "execution_count": 427,
>>>>>>> 0ae94ebd354c64d16cdd027749df350cfd06e54e
   "metadata": {},
   "outputs": [
    {
     "data": {
      "text/html": [
       "<div>\n",
       "<style scoped>\n",
       "    .dataframe tbody tr th:only-of-type {\n",
       "        vertical-align: middle;\n",
       "    }\n",
       "\n",
       "    .dataframe tbody tr th {\n",
       "        vertical-align: top;\n",
       "    }\n",
       "\n",
       "    .dataframe thead th {\n",
       "        text-align: right;\n",
       "    }\n",
       "</style>\n",
       "<table border=\"1\" class=\"dataframe\">\n",
       "  <thead>\n",
       "    <tr style=\"text-align: right;\">\n",
       "      <th></th>\n",
       "      <th>city</th>\n",
       "      <th>date</th>\n",
       "      <th>fare</th>\n",
       "      <th>ride_id</th>\n",
       "      <th>driver_count</th>\n",
       "      <th>type</th>\n",
       "    </tr>\n",
       "  </thead>\n",
       "  <tbody>\n",
       "    <tr>\n",
       "      <th>2250</th>\n",
       "      <td>Randallchester</td>\n",
       "      <td>4/13/2019 11:13</td>\n",
       "      <td>43.22</td>\n",
       "      <td>1.076080e+12</td>\n",
       "      <td>9</td>\n",
       "      <td>Rural</td>\n",
       "    </tr>\n",
       "    <tr>\n",
       "      <th>2251</th>\n",
       "      <td>North Holly</td>\n",
       "      <td>2/2/2019 14:54</td>\n",
       "      <td>12.42</td>\n",
       "      <td>1.985260e+12</td>\n",
       "      <td>8</td>\n",
       "      <td>Rural</td>\n",
       "    </tr>\n",
       "    <tr>\n",
       "      <th>2252</th>\n",
       "      <td>Michaelberg</td>\n",
       "      <td>3/27/2019 18:27</td>\n",
       "      <td>54.85</td>\n",
       "      <td>4.421840e+12</td>\n",
       "      <td>6</td>\n",
       "      <td>Rural</td>\n",
       "    </tr>\n",
       "    <tr>\n",
       "      <th>2253</th>\n",
       "      <td>Lake Latoyabury</td>\n",
       "      <td>2/23/2019 21:12</td>\n",
       "      <td>47.90</td>\n",
       "      <td>3.269650e+12</td>\n",
       "      <td>2</td>\n",
       "      <td>Rural</td>\n",
       "    </tr>\n",
       "    <tr>\n",
       "      <th>2254</th>\n",
       "      <td>Lake Latoyabury</td>\n",
       "      <td>5/6/2019 8:57</td>\n",
       "      <td>51.80</td>\n",
       "      <td>4.018030e+12</td>\n",
       "      <td>2</td>\n",
       "      <td>Rural</td>\n",
       "    </tr>\n",
       "  </tbody>\n",
       "</table>\n",
       "</div>"
      ],
      "text/plain": [
       "                 city             date   fare       ride_id  driver_count  \\\n",
       "2250   Randallchester  4/13/2019 11:13  43.22  1.076080e+12             9   \n",
       "2251      North Holly   2/2/2019 14:54  12.42  1.985260e+12             8   \n",
       "2252      Michaelberg  3/27/2019 18:27  54.85  4.421840e+12             6   \n",
       "2253  Lake Latoyabury  2/23/2019 21:12  47.90  3.269650e+12             2   \n",
       "2254  Lake Latoyabury    5/6/2019 8:57  51.80  4.018030e+12             2   \n",
       "\n",
       "       type  \n",
       "2250  Rural  \n",
       "2251  Rural  \n",
       "2252  Rural  \n",
       "2253  Rural  \n",
       "2254  Rural  "
      ]
     },
<<<<<<< HEAD
     "execution_count": 4,
=======
     "execution_count": 427,
>>>>>>> 0ae94ebd354c64d16cdd027749df350cfd06e54e
     "metadata": {},
     "output_type": "execute_result"
    }
   ],
   "source": [
    "# DataFrames for each city:\n",
    "\n",
    "# Urban Cities DataFrame\n",
    "urban_cities_df = pyber_data_df[pyber_data_df[\"type\"]==\"Urban\"]\n",
    "urban_cities_df.head()\n",
    "\n",
    "# Suburban Cities DataFrame\n",
    "suburban_cities_df = pyber_data_df[pyber_data_df[\"type\"]==\"Suburban\"]\n",
    "suburban_cities_df.head()\n",
    "\n",
    "# Rural Cities DataFrame\n",
    "rural_cities_df = pyber_data_df[pyber_data_df[\"type\"]==\"Rural\"]\n",
    "rural_cities_df.head()\n",
    "\n"
   ]
  },
  {
   "cell_type": "code",
<<<<<<< HEAD
   "execution_count": 5,
=======
   "execution_count": 428,
>>>>>>> 0ae94ebd354c64d16cdd027749df350cfd06e54e
   "metadata": {},
   "outputs": [
    {
     "data": {
      "text/plain": [
       "type\n",
       "Rural        125\n",
       "Suburban     625\n",
       "Urban       1625\n",
       "Name: ride_id, dtype: int64"
      ]
     },
<<<<<<< HEAD
     "execution_count": 5,
=======
     "execution_count": 428,
>>>>>>> 0ae94ebd354c64d16cdd027749df350cfd06e54e
     "metadata": {},
     "output_type": "execute_result"
    }
   ],
   "source": [
    "#  1. Get the total rides for each city type\n",
    "\n",
    "total_ride_count = pyber_data_df.groupby([\"type\"]).count()[\"ride_id\"]\n",
    "\n",
    "total_ride_count"
   ]
  },
  {
   "cell_type": "code",
<<<<<<< HEAD
   "execution_count": 6,
=======
   "execution_count": 429,
>>>>>>> 0ae94ebd354c64d16cdd027749df350cfd06e54e
   "metadata": {},
   "outputs": [
    {
     "data": {
      "text/plain": [
       "type\n",
       "Rural         78\n",
       "Suburban     490\n",
       "Urban       2405\n",
       "Name: driver_count, dtype: int64"
      ]
     },
<<<<<<< HEAD
     "execution_count": 6,
=======
     "execution_count": 429,
>>>>>>> 0ae94ebd354c64d16cdd027749df350cfd06e54e
     "metadata": {},
     "output_type": "execute_result"
    }
   ],
   "source": [
    "# 2. Get the total drivers for each city type\n",
    "\n",
    "total_driver_count_city_type = city_data_df.groupby([\"type\"]).sum()[\"driver_count\"]\n",
    "\n",
    "total_driver_count_city_type"
   ]
  },
  {
   "cell_type": "code",
<<<<<<< HEAD
   "execution_count": 7,
=======
   "execution_count": 430,
>>>>>>> 0ae94ebd354c64d16cdd027749df350cfd06e54e
   "metadata": {},
   "outputs": [
    {
     "data": {
      "text/plain": [
       "type\n",
       "Rural        4327.93\n",
       "Suburban    19356.33\n",
       "Urban       39854.38\n",
       "Name: fare, dtype: float64"
      ]
     },
<<<<<<< HEAD
     "execution_count": 7,
=======
     "execution_count": 430,
>>>>>>> 0ae94ebd354c64d16cdd027749df350cfd06e54e
     "metadata": {},
     "output_type": "execute_result"
    }
   ],
   "source": [
    "#  3. Get the total amount of fares for each city type\n",
    "\n",
    "total_fares_by_city_type = pyber_data_df.groupby([\"type\"]).sum()[\"fare\"]\n",
    "\n",
    "total_fares_by_city_type"
   ]
  },
  {
   "cell_type": "code",
<<<<<<< HEAD
   "execution_count": 8,
=======
   "execution_count": 431,
>>>>>>> 0ae94ebd354c64d16cdd027749df350cfd06e54e
   "metadata": {},
   "outputs": [
    {
     "data": {
      "text/plain": [
       "type\n",
       "Rural       34.623440\n",
       "Suburban    30.970128\n",
       "Urban       24.525772\n",
       "dtype: float64"
      ]
     },
<<<<<<< HEAD
     "execution_count": 8,
=======
     "execution_count": 431,
>>>>>>> 0ae94ebd354c64d16cdd027749df350cfd06e54e
     "metadata": {},
     "output_type": "execute_result"
    }
   ],
   "source": [
    "#  4. Get the average fare per ride for each city type. \n",
    "\n",
    "total_ride_count = pyber_data_df.groupby([\"type\"]).count()[\"ride_id\"]\n",
    "\n",
    "\n",
    "avg_fare_ride = (total_fares_by_city_type/total_ride_count)\n",
    "avg_fare_ride\n",
    "\n"
   ]
  },
  {
   "cell_type": "code",
<<<<<<< HEAD
   "execution_count": 9,
=======
   "execution_count": 432,
>>>>>>> 0ae94ebd354c64d16cdd027749df350cfd06e54e
   "metadata": {},
   "outputs": [
    {
     "data": {
      "text/plain": [
       "type\n",
       "Rural       55.486282\n",
       "Suburban    39.502714\n",
       "Urban       16.571468\n",
       "dtype: float64"
      ]
     },
<<<<<<< HEAD
     "execution_count": 9,
=======
     "execution_count": 432,
>>>>>>> 0ae94ebd354c64d16cdd027749df350cfd06e54e
     "metadata": {},
     "output_type": "execute_result"
    }
   ],
   "source": [
    "# 5. Get the average fare per driver for each city type. \n",
    "\n",
    "avg_fare_driver = (total_fares_by_city_type/total_driver_count_city_type)\n",
    "avg_fare_driver\n",
    "\n"
   ]
  },
  {
   "cell_type": "code",
<<<<<<< HEAD
   "execution_count": 10,
=======
   "execution_count": 433,
>>>>>>> 0ae94ebd354c64d16cdd027749df350cfd06e54e
   "metadata": {},
   "outputs": [
    {
     "data": {
      "text/html": [
       "<div>\n",
       "<style scoped>\n",
       "    .dataframe tbody tr th:only-of-type {\n",
       "        vertical-align: middle;\n",
       "    }\n",
       "\n",
       "    .dataframe tbody tr th {\n",
       "        vertical-align: top;\n",
       "    }\n",
       "\n",
       "    .dataframe thead th {\n",
       "        text-align: right;\n",
       "    }\n",
       "</style>\n",
       "<table border=\"1\" class=\"dataframe\">\n",
       "  <thead>\n",
       "    <tr style=\"text-align: right;\">\n",
       "      <th></th>\n",
       "      <th>Total Rides</th>\n",
       "      <th>Total Drivers</th>\n",
       "      <th>Total Fares</th>\n",
       "      <th>Average Fare per Ride</th>\n",
       "      <th>Average Fare per Driver</th>\n",
       "    </tr>\n",
       "    <tr>\n",
       "      <th>type</th>\n",
       "      <th></th>\n",
       "      <th></th>\n",
       "      <th></th>\n",
       "      <th></th>\n",
       "      <th></th>\n",
       "    </tr>\n",
       "  </thead>\n",
       "  <tbody>\n",
       "    <tr>\n",
       "      <th>Rural</th>\n",
       "      <td>125</td>\n",
       "      <td>78</td>\n",
       "      <td>4327.93</td>\n",
       "      <td>34.623440</td>\n",
       "      <td>55.486282</td>\n",
       "    </tr>\n",
       "    <tr>\n",
       "      <th>Suburban</th>\n",
       "      <td>625</td>\n",
       "      <td>490</td>\n",
       "      <td>19356.33</td>\n",
       "      <td>30.970128</td>\n",
       "      <td>39.502714</td>\n",
       "    </tr>\n",
       "    <tr>\n",
       "      <th>Urban</th>\n",
       "      <td>1625</td>\n",
       "      <td>2405</td>\n",
       "      <td>39854.38</td>\n",
       "      <td>24.525772</td>\n",
       "      <td>16.571468</td>\n",
       "    </tr>\n",
       "  </tbody>\n",
       "</table>\n",
       "</div>"
      ],
      "text/plain": [
       "          Total Rides  Total Drivers  Total Fares  Average Fare per Ride  \\\n",
       "type                                                                       \n",
       "Rural             125             78      4327.93              34.623440   \n",
       "Suburban          625            490     19356.33              30.970128   \n",
       "Urban            1625           2405     39854.38              24.525772   \n",
       "\n",
       "          Average Fare per Driver  \n",
       "type                               \n",
       "Rural                   55.486282  \n",
       "Suburban                39.502714  \n",
       "Urban                   16.571468  "
      ]
     },
<<<<<<< HEAD
     "execution_count": 10,
=======
     "execution_count": 433,
>>>>>>> 0ae94ebd354c64d16cdd027749df350cfd06e54e
     "metadata": {},
     "output_type": "execute_result"
    }
   ],
   "source": [
    "#  6. Create a PyBer summary DataFrame. \n",
    "\n",
    "pyber_summary_df = pd.DataFrame({\n",
    "    \"Total Rides\" :  total_ride_count,\n",
    "    \"Total Drivers\" : total_driver_count_city_type,\n",
    "    \"Total Fares\" : total_fares_by_city_type,\n",
    "    \"Average Fare per Ride\" : avg_fare_ride,\n",
    "    \"Average Fare per Driver\":avg_fare_driver})\n",
    "\n",
    "pyber_summary_df\n"
   ]
  },
  {
   "cell_type": "code",
<<<<<<< HEAD
   "execution_count": 11,
=======
   "execution_count": 434,
>>>>>>> 0ae94ebd354c64d16cdd027749df350cfd06e54e
   "metadata": {},
   "outputs": [
    {
     "data": {
      "text/html": [
       "<div>\n",
       "<style scoped>\n",
       "    .dataframe tbody tr th:only-of-type {\n",
       "        vertical-align: middle;\n",
       "    }\n",
       "\n",
       "    .dataframe tbody tr th {\n",
       "        vertical-align: top;\n",
       "    }\n",
       "\n",
       "    .dataframe thead th {\n",
       "        text-align: right;\n",
       "    }\n",
       "</style>\n",
       "<table border=\"1\" class=\"dataframe\">\n",
       "  <thead>\n",
       "    <tr style=\"text-align: right;\">\n",
       "      <th></th>\n",
       "      <th>Total Rides</th>\n",
       "      <th>Total Drivers</th>\n",
       "      <th>Total Fares</th>\n",
       "      <th>Average Fare per Ride</th>\n",
       "      <th>Average Fare per Driver</th>\n",
       "    </tr>\n",
       "  </thead>\n",
       "  <tbody>\n",
       "    <tr>\n",
       "      <th>Rural</th>\n",
       "      <td>125</td>\n",
       "      <td>78</td>\n",
       "      <td>4327.93</td>\n",
       "      <td>34.623440</td>\n",
       "      <td>55.486282</td>\n",
       "    </tr>\n",
       "    <tr>\n",
       "      <th>Suburban</th>\n",
       "      <td>625</td>\n",
       "      <td>490</td>\n",
       "      <td>19356.33</td>\n",
       "      <td>30.970128</td>\n",
       "      <td>39.502714</td>\n",
       "    </tr>\n",
       "    <tr>\n",
       "      <th>Urban</th>\n",
       "      <td>1625</td>\n",
       "      <td>2405</td>\n",
       "      <td>39854.38</td>\n",
       "      <td>24.525772</td>\n",
       "      <td>16.571468</td>\n",
       "    </tr>\n",
       "  </tbody>\n",
       "</table>\n",
       "</div>"
      ],
      "text/plain": [
       "          Total Rides  Total Drivers  Total Fares  Average Fare per Ride  \\\n",
       "Rural             125             78      4327.93              34.623440   \n",
       "Suburban          625            490     19356.33              30.970128   \n",
       "Urban            1625           2405     39854.38              24.525772   \n",
       "\n",
       "          Average Fare per Driver  \n",
       "Rural                   55.486282  \n",
       "Suburban                39.502714  \n",
       "Urban                   16.571468  "
      ]
     },
<<<<<<< HEAD
     "execution_count": 11,
=======
     "execution_count": 434,
>>>>>>> 0ae94ebd354c64d16cdd027749df350cfd06e54e
     "metadata": {},
     "output_type": "execute_result"
    }
   ],
   "source": [
    "#  7. Cleaning up the DataFrame. Delete the index name\n",
    "pyber_summary_df.index.name = None\n",
    "pyber_summary_df"
   ]
  },
  {
   "cell_type": "code",
<<<<<<< HEAD
   "execution_count": 12,
=======
   "execution_count": 435,
>>>>>>> 0ae94ebd354c64d16cdd027749df350cfd06e54e
   "metadata": {},
   "outputs": [
    {
     "data": {
      "text/html": [
       "<div>\n",
       "<style scoped>\n",
       "    .dataframe tbody tr th:only-of-type {\n",
       "        vertical-align: middle;\n",
       "    }\n",
       "\n",
       "    .dataframe tbody tr th {\n",
       "        vertical-align: top;\n",
       "    }\n",
       "\n",
       "    .dataframe thead th {\n",
       "        text-align: right;\n",
       "    }\n",
       "</style>\n",
       "<table border=\"1\" class=\"dataframe\">\n",
       "  <thead>\n",
       "    <tr style=\"text-align: right;\">\n",
       "      <th></th>\n",
       "      <th>Total Rides</th>\n",
       "      <th>Total Drivers</th>\n",
       "      <th>Total Fares</th>\n",
       "      <th>Average Fare per Ride</th>\n",
       "      <th>Average Fare per Driver</th>\n",
       "    </tr>\n",
       "  </thead>\n",
       "  <tbody>\n",
       "    <tr>\n",
       "      <th>Rural</th>\n",
       "      <td>125</td>\n",
       "      <td>78</td>\n",
       "      <td>$4,327.93</td>\n",
       "      <td>$34.62</td>\n",
       "      <td>$55.49</td>\n",
       "    </tr>\n",
       "    <tr>\n",
       "      <th>Suburban</th>\n",
       "      <td>625</td>\n",
       "      <td>490</td>\n",
       "      <td>$19,356.33</td>\n",
       "      <td>$30.97</td>\n",
       "      <td>$39.50</td>\n",
       "    </tr>\n",
       "    <tr>\n",
       "      <th>Urban</th>\n",
       "      <td>1625</td>\n",
       "      <td>2405</td>\n",
       "      <td>$39,854.38</td>\n",
       "      <td>$24.53</td>\n",
       "      <td>$16.57</td>\n",
       "    </tr>\n",
       "  </tbody>\n",
       "</table>\n",
       "</div>"
      ],
      "text/plain": [
       "          Total Rides  Total Drivers Total Fares Average Fare per Ride  \\\n",
       "Rural             125             78   $4,327.93                $34.62   \n",
       "Suburban          625            490  $19,356.33                $30.97   \n",
       "Urban            1625           2405  $39,854.38                $24.53   \n",
       "\n",
       "         Average Fare per Driver  \n",
       "Rural                     $55.49  \n",
       "Suburban                  $39.50  \n",
       "Urban                     $16.57  "
      ]
     },
<<<<<<< HEAD
     "execution_count": 12,
=======
     "execution_count": 435,
>>>>>>> 0ae94ebd354c64d16cdd027749df350cfd06e54e
     "metadata": {},
     "output_type": "execute_result"
    }
   ],
   "source": [
    "#  8. Format the columns.\n",
    "\n",
    "pyber_summary_df[\"Total Fares\"] = pyber_summary_df[\"Total Fares\"].map(\"${:,.2f}\".format)\n",
    "\n",
    "pyber_summary_df[\"Average Fare per Ride\"] = pyber_summary_df[\"Average Fare per Ride\"].map(\"${:.2f}\".format)\n",
    "\n",
    "pyber_summary_df[\"Average Fare per Driver\"] = pyber_summary_df[\"Average Fare per Driver\"].map(\"${:.2f}\".format)\n",
    "\n",
    "# Display DataFrame\n",
    "pyber_summary_df\n"
   ]
  },
  {
   "cell_type": "markdown",
   "metadata": {},
   "source": [
    "## Deliverable 2.  Create a multiple line plot that shows the total weekly of the fares for each type of city."
   ]
  },
  {
   "cell_type": "code",
<<<<<<< HEAD
   "execution_count": 13,
=======
   "execution_count": 436,
>>>>>>> 0ae94ebd354c64d16cdd027749df350cfd06e54e
   "metadata": {},
   "outputs": [
    {
     "data": {
      "text/html": [
       "<div>\n",
       "<style scoped>\n",
       "    .dataframe tbody tr th:only-of-type {\n",
       "        vertical-align: middle;\n",
       "    }\n",
       "\n",
       "    .dataframe tbody tr th {\n",
       "        vertical-align: top;\n",
       "    }\n",
       "\n",
       "    .dataframe thead th {\n",
       "        text-align: right;\n",
       "    }\n",
       "</style>\n",
       "<table border=\"1\" class=\"dataframe\">\n",
       "  <thead>\n",
       "    <tr style=\"text-align: right;\">\n",
       "      <th></th>\n",
       "      <th>city</th>\n",
       "      <th>date</th>\n",
       "      <th>fare</th>\n",
       "      <th>ride_id</th>\n",
       "      <th>driver_count</th>\n",
       "      <th>type</th>\n",
       "    </tr>\n",
       "  </thead>\n",
       "  <tbody>\n",
       "    <tr>\n",
       "      <th>0</th>\n",
       "      <td>Lake Jonathanshire</td>\n",
       "      <td>1/14/2019 10:14</td>\n",
       "      <td>13.83</td>\n",
       "      <td>5.739410e+12</td>\n",
       "      <td>5</td>\n",
       "      <td>Urban</td>\n",
       "    </tr>\n",
       "    <tr>\n",
       "      <th>1</th>\n",
       "      <td>South Michelleport</td>\n",
       "      <td>3/4/2019 18:24</td>\n",
       "      <td>30.24</td>\n",
       "      <td>2.343910e+12</td>\n",
       "      <td>72</td>\n",
       "      <td>Urban</td>\n",
       "    </tr>\n",
       "    <tr>\n",
       "      <th>2</th>\n",
       "      <td>Port Samanthamouth</td>\n",
       "      <td>2/24/2019 4:29</td>\n",
       "      <td>33.44</td>\n",
       "      <td>2.005070e+12</td>\n",
       "      <td>57</td>\n",
       "      <td>Urban</td>\n",
       "    </tr>\n",
       "    <tr>\n",
       "      <th>3</th>\n",
       "      <td>Rodneyfort</td>\n",
       "      <td>2/10/2019 23:22</td>\n",
       "      <td>23.44</td>\n",
       "      <td>5.149250e+12</td>\n",
       "      <td>34</td>\n",
       "      <td>Urban</td>\n",
       "    </tr>\n",
       "    <tr>\n",
       "      <th>4</th>\n",
       "      <td>South Jack</td>\n",
       "      <td>3/6/2019 4:28</td>\n",
       "      <td>34.58</td>\n",
       "      <td>3.908450e+12</td>\n",
       "      <td>46</td>\n",
       "      <td>Urban</td>\n",
       "    </tr>\n",
       "  </tbody>\n",
       "</table>\n",
       "</div>"
      ],
      "text/plain": [
       "                 city             date   fare       ride_id  driver_count  \\\n",
       "0  Lake Jonathanshire  1/14/2019 10:14  13.83  5.739410e+12             5   \n",
       "1  South Michelleport   3/4/2019 18:24  30.24  2.343910e+12            72   \n",
       "2  Port Samanthamouth   2/24/2019 4:29  33.44  2.005070e+12            57   \n",
       "3          Rodneyfort  2/10/2019 23:22  23.44  5.149250e+12            34   \n",
       "4          South Jack    3/6/2019 4:28  34.58  3.908450e+12            46   \n",
       "\n",
       "    type  \n",
       "0  Urban  \n",
       "1  Urban  \n",
       "2  Urban  \n",
       "3  Urban  \n",
       "4  Urban  "
      ]
     },
<<<<<<< HEAD
     "execution_count": 13,
=======
     "execution_count": 436,
>>>>>>> 0ae94ebd354c64d16cdd027749df350cfd06e54e
     "metadata": {},
     "output_type": "execute_result"
    }
   ],
   "source": [
    "# 1. Read the merged DataFrame\n",
    "pyber_data_df = pd.merge(ride_data_df, city_data_df, how=\"left\", on=[\"city\", \"city\"])\n",
    "pyber_data_df.head()"
   ]
  },
  {
   "cell_type": "code",
<<<<<<< HEAD
   "execution_count": 14,
=======
   "execution_count": 437,
>>>>>>> 0ae94ebd354c64d16cdd027749df350cfd06e54e
   "metadata": {
    "scrolled": true
   },
   "outputs": [
    {
     "data": {
      "text/plain": [
       "type   date           \n",
       "Rural  1/1/2019 9:45      43.69\n",
       "       1/11/2019 4:39     16.42\n",
       "       1/14/2019 15:58    54.10\n",
       "       1/14/2019 7:09     18.05\n",
       "       1/15/2019 21:44    30.26\n",
       "                          ...  \n",
       "Urban  5/8/2019 1:54      32.69\n",
       "       5/8/2019 2:31      41.33\n",
       "       5/8/2019 4:20      21.99\n",
       "       5/8/2019 4:39      18.45\n",
       "       5/8/2019 7:29      18.55\n",
       "Name: fare, Length: 2364, dtype: float64"
      ]
     },
<<<<<<< HEAD
     "execution_count": 14,
=======
     "execution_count": 437,
>>>>>>> 0ae94ebd354c64d16cdd027749df350cfd06e54e
     "metadata": {},
     "output_type": "execute_result"
    }
   ],
   "source": [
    "# 2. Using groupby() to create a new DataFrame showing the sum of the fares \n",
    "# for each date where the indices are the city type and date.\n",
    "\n",
    "city_date = pyber_data_df.groupby(['type','date']).sum()['fare']\n",
    "\n",
    "city_date\n",
    "\n",
    "\n",
    "\n"
   ]
  },
  {
   "cell_type": "code",
<<<<<<< HEAD
   "execution_count": 15,
=======
   "execution_count": 438,
>>>>>>> 0ae94ebd354c64d16cdd027749df350cfd06e54e
   "metadata": {},
   "outputs": [
    {
     "data": {
      "text/html": [
       "<div>\n",
       "<style scoped>\n",
       "    .dataframe tbody tr th:only-of-type {\n",
       "        vertical-align: middle;\n",
       "    }\n",
       "\n",
       "    .dataframe tbody tr th {\n",
       "        vertical-align: top;\n",
       "    }\n",
       "\n",
       "    .dataframe thead th {\n",
       "        text-align: right;\n",
       "    }\n",
       "</style>\n",
       "<table border=\"1\" class=\"dataframe\">\n",
       "  <thead>\n",
       "    <tr style=\"text-align: right;\">\n",
       "      <th></th>\n",
       "      <th>type</th>\n",
       "      <th>date</th>\n",
       "      <th>fare</th>\n",
       "    </tr>\n",
       "  </thead>\n",
       "  <tbody>\n",
       "    <tr>\n",
       "      <th>0</th>\n",
       "      <td>Rural</td>\n",
       "      <td>1/1/2019 9:45</td>\n",
       "      <td>43.69</td>\n",
       "    </tr>\n",
       "    <tr>\n",
       "      <th>1</th>\n",
       "      <td>Rural</td>\n",
       "      <td>1/11/2019 4:39</td>\n",
       "      <td>16.42</td>\n",
       "    </tr>\n",
       "    <tr>\n",
       "      <th>2</th>\n",
       "      <td>Rural</td>\n",
       "      <td>1/14/2019 15:58</td>\n",
       "      <td>54.10</td>\n",
       "    </tr>\n",
       "    <tr>\n",
       "      <th>3</th>\n",
       "      <td>Rural</td>\n",
       "      <td>1/14/2019 7:09</td>\n",
       "      <td>18.05</td>\n",
       "    </tr>\n",
       "    <tr>\n",
       "      <th>4</th>\n",
       "      <td>Rural</td>\n",
       "      <td>1/15/2019 21:44</td>\n",
       "      <td>30.26</td>\n",
       "    </tr>\n",
       "  </tbody>\n",
       "</table>\n",
       "</div>"
      ],
      "text/plain": [
       "    type             date   fare\n",
       "0  Rural    1/1/2019 9:45  43.69\n",
       "1  Rural   1/11/2019 4:39  16.42\n",
       "2  Rural  1/14/2019 15:58  54.10\n",
       "3  Rural   1/14/2019 7:09  18.05\n",
       "4  Rural  1/15/2019 21:44  30.26"
      ]
     },
<<<<<<< HEAD
     "execution_count": 15,
=======
     "execution_count": 438,
>>>>>>> 0ae94ebd354c64d16cdd027749df350cfd06e54e
     "metadata": {},
     "output_type": "execute_result"
    }
   ],
   "source": [
    "# 3. Reset the index on the DataFrame you created in #1. This is needed to use the 'pivot()' function.\n",
    "# df = df.reset_index()\n",
    "\n",
    "city_date = city_date.reset_index()\n",
    "city_date.head()"
   ]
  },
  {
   "cell_type": "code",
<<<<<<< HEAD
   "execution_count": 16,
=======
   "execution_count": 439,
>>>>>>> 0ae94ebd354c64d16cdd027749df350cfd06e54e
   "metadata": {},
   "outputs": [
    {
     "data": {
      "text/html": [
       "<div>\n",
       "<style scoped>\n",
       "    .dataframe tbody tr th:only-of-type {\n",
       "        vertical-align: middle;\n",
       "    }\n",
       "\n",
       "    .dataframe tbody tr th {\n",
       "        vertical-align: top;\n",
       "    }\n",
       "\n",
       "    .dataframe thead th {\n",
       "        text-align: right;\n",
       "    }\n",
       "</style>\n",
       "<table border=\"1\" class=\"dataframe\">\n",
       "  <thead>\n",
       "    <tr style=\"text-align: right;\">\n",
       "      <th>type</th>\n",
       "      <th>Rural</th>\n",
       "      <th>Suburban</th>\n",
       "      <th>Urban</th>\n",
       "    </tr>\n",
       "    <tr>\n",
       "      <th>date</th>\n",
       "      <th></th>\n",
       "      <th></th>\n",
       "      <th></th>\n",
       "    </tr>\n",
       "  </thead>\n",
       "  <tbody>\n",
       "    <tr>\n",
       "      <th>1/1/2019 0:08</th>\n",
       "      <td>NaN</td>\n",
       "      <td>NaN</td>\n",
       "      <td>37.91</td>\n",
       "    </tr>\n",
       "    <tr>\n",
       "      <th>1/1/2019 0:46</th>\n",
       "      <td>NaN</td>\n",
       "      <td>47.74</td>\n",
       "      <td>NaN</td>\n",
       "    </tr>\n",
       "    <tr>\n",
       "      <th>1/1/2019 12:32</th>\n",
       "      <td>NaN</td>\n",
       "      <td>25.56</td>\n",
       "      <td>NaN</td>\n",
       "    </tr>\n",
       "    <tr>\n",
       "      <th>1/1/2019 14:40</th>\n",
       "      <td>NaN</td>\n",
       "      <td>NaN</td>\n",
       "      <td>5.42</td>\n",
       "    </tr>\n",
       "    <tr>\n",
       "      <th>1/1/2019 14:42</th>\n",
       "      <td>NaN</td>\n",
       "      <td>NaN</td>\n",
       "      <td>12.31</td>\n",
       "    </tr>\n",
       "    <tr>\n",
       "      <th>...</th>\n",
       "      <td>...</td>\n",
       "      <td>...</td>\n",
       "      <td>...</td>\n",
       "    </tr>\n",
       "    <tr>\n",
       "      <th>5/8/2019 1:54</th>\n",
       "      <td>NaN</td>\n",
       "      <td>NaN</td>\n",
       "      <td>32.69</td>\n",
       "    </tr>\n",
       "    <tr>\n",
       "      <th>5/8/2019 2:31</th>\n",
       "      <td>NaN</td>\n",
       "      <td>NaN</td>\n",
       "      <td>41.33</td>\n",
       "    </tr>\n",
       "    <tr>\n",
       "      <th>5/8/2019 4:20</th>\n",
       "      <td>NaN</td>\n",
       "      <td>NaN</td>\n",
       "      <td>21.99</td>\n",
       "    </tr>\n",
       "    <tr>\n",
       "      <th>5/8/2019 4:39</th>\n",
       "      <td>NaN</td>\n",
       "      <td>NaN</td>\n",
       "      <td>18.45</td>\n",
       "    </tr>\n",
       "    <tr>\n",
       "      <th>5/8/2019 7:29</th>\n",
       "      <td>NaN</td>\n",
       "      <td>NaN</td>\n",
       "      <td>18.55</td>\n",
       "    </tr>\n",
       "  </tbody>\n",
       "</table>\n",
       "<p>2361 rows × 3 columns</p>\n",
       "</div>"
      ],
      "text/plain": [
       "type            Rural  Suburban  Urban\n",
       "date                                  \n",
       "1/1/2019 0:08     NaN       NaN  37.91\n",
       "1/1/2019 0:46     NaN     47.74    NaN\n",
       "1/1/2019 12:32    NaN     25.56    NaN\n",
       "1/1/2019 14:40    NaN       NaN   5.42\n",
       "1/1/2019 14:42    NaN       NaN  12.31\n",
       "...               ...       ...    ...\n",
       "5/8/2019 1:54     NaN       NaN  32.69\n",
       "5/8/2019 2:31     NaN       NaN  41.33\n",
       "5/8/2019 4:20     NaN       NaN  21.99\n",
       "5/8/2019 4:39     NaN       NaN  18.45\n",
       "5/8/2019 7:29     NaN       NaN  18.55\n",
       "\n",
       "[2361 rows x 3 columns]"
      ]
     },
<<<<<<< HEAD
     "execution_count": 16,
=======
     "execution_count": 439,
>>>>>>> 0ae94ebd354c64d16cdd027749df350cfd06e54e
     "metadata": {},
     "output_type": "execute_result"
    }
   ],
   "source": [
    "# 4. Create a pivot table with the 'date' as the index, the columns ='type', and values='fare' \n",
    "# to get the total fares for each type of city by the date. \n",
    "\n",
    "pivot_table = city_date.pivot(index=\"date\", columns=\"type\", values=\"fare\")\n",
    "\n",
    "pivot_table"
   ]
  },
  {
   "cell_type": "code",
<<<<<<< HEAD
   "execution_count": 17,
=======
   "execution_count": 440,
>>>>>>> 0ae94ebd354c64d16cdd027749df350cfd06e54e
   "metadata": {},
   "outputs": [
    {
     "data": {
      "text/html": [
       "<div>\n",
       "<style scoped>\n",
       "    .dataframe tbody tr th:only-of-type {\n",
       "        vertical-align: middle;\n",
       "    }\n",
       "\n",
       "    .dataframe tbody tr th {\n",
       "        vertical-align: top;\n",
       "    }\n",
       "\n",
       "    .dataframe thead th {\n",
       "        text-align: right;\n",
       "    }\n",
       "</style>\n",
       "<table border=\"1\" class=\"dataframe\">\n",
       "  <thead>\n",
       "    <tr style=\"text-align: right;\">\n",
       "      <th>type</th>\n",
       "      <th>Rural</th>\n",
       "      <th>Suburban</th>\n",
       "      <th>Urban</th>\n",
       "    </tr>\n",
       "    <tr>\n",
       "      <th>date</th>\n",
       "      <th></th>\n",
       "      <th></th>\n",
       "      <th></th>\n",
       "    </tr>\n",
       "  </thead>\n",
       "  <tbody>\n",
       "    <tr>\n",
       "      <th>1/1/2019 0:08</th>\n",
       "      <td>NaN</td>\n",
       "      <td>NaN</td>\n",
       "      <td>37.91</td>\n",
       "    </tr>\n",
       "    <tr>\n",
       "      <th>1/1/2019 0:46</th>\n",
       "      <td>NaN</td>\n",
       "      <td>47.74</td>\n",
       "      <td>NaN</td>\n",
       "    </tr>\n",
       "    <tr>\n",
       "      <th>1/1/2019 12:32</th>\n",
       "      <td>NaN</td>\n",
       "      <td>25.56</td>\n",
       "      <td>NaN</td>\n",
       "    </tr>\n",
       "    <tr>\n",
       "      <th>1/1/2019 14:40</th>\n",
       "      <td>NaN</td>\n",
       "      <td>NaN</td>\n",
       "      <td>5.42</td>\n",
       "    </tr>\n",
       "    <tr>\n",
       "      <th>1/1/2019 14:42</th>\n",
       "      <td>NaN</td>\n",
       "      <td>NaN</td>\n",
       "      <td>12.31</td>\n",
       "    </tr>\n",
       "    <tr>\n",
       "      <th>...</th>\n",
       "      <td>...</td>\n",
       "      <td>...</td>\n",
       "      <td>...</td>\n",
       "    </tr>\n",
       "    <tr>\n",
       "      <th>4/28/2019 4:34</th>\n",
       "      <td>NaN</td>\n",
       "      <td>NaN</td>\n",
       "      <td>40.46</td>\n",
       "    </tr>\n",
       "    <tr>\n",
       "      <th>4/28/2019 8:15</th>\n",
       "      <td>NaN</td>\n",
       "      <td>NaN</td>\n",
       "      <td>22.86</td>\n",
       "    </tr>\n",
       "    <tr>\n",
       "      <th>4/28/2019 9:03</th>\n",
       "      <td>NaN</td>\n",
       "      <td>NaN</td>\n",
       "      <td>15.00</td>\n",
       "    </tr>\n",
       "    <tr>\n",
       "      <th>4/28/2019 9:10</th>\n",
       "      <td>NaN</td>\n",
       "      <td>NaN</td>\n",
       "      <td>5.73</td>\n",
       "    </tr>\n",
       "    <tr>\n",
       "      <th>4/28/2019 9:25</th>\n",
       "      <td>NaN</td>\n",
       "      <td>NaN</td>\n",
       "      <td>37.35</td>\n",
       "    </tr>\n",
       "  </tbody>\n",
       "</table>\n",
       "<p>2057 rows × 3 columns</p>\n",
       "</div>"
      ],
      "text/plain": [
       "type            Rural  Suburban  Urban\n",
       "date                                  \n",
       "1/1/2019 0:08     NaN       NaN  37.91\n",
       "1/1/2019 0:46     NaN     47.74    NaN\n",
       "1/1/2019 12:32    NaN     25.56    NaN\n",
       "1/1/2019 14:40    NaN       NaN   5.42\n",
       "1/1/2019 14:42    NaN       NaN  12.31\n",
       "...               ...       ...    ...\n",
       "4/28/2019 4:34    NaN       NaN  40.46\n",
       "4/28/2019 8:15    NaN       NaN  22.86\n",
       "4/28/2019 9:03    NaN       NaN  15.00\n",
       "4/28/2019 9:10    NaN       NaN   5.73\n",
       "4/28/2019 9:25    NaN       NaN  37.35\n",
       "\n",
       "[2057 rows x 3 columns]"
      ]
     },
<<<<<<< HEAD
     "execution_count": 17,
=======
     "execution_count": 440,
>>>>>>> 0ae94ebd354c64d16cdd027749df350cfd06e54e
     "metadata": {},
     "output_type": "execute_result"
    }
   ],
   "source": [
    "# 5. Create a new DataFrame from the pivot table DataFrame using loc on the given dates, '2019-01-01':'2019-04-29'.\n",
    "\n",
    "first_4months_fare_per_date = pivot_table.loc['1/1/2019':'4/29/2019'] \n",
    "\n",
    "first_4months_fare_per_date"
   ]
  },
  {
   "cell_type": "code",
<<<<<<< HEAD
   "execution_count": 18,
=======
   "execution_count": 441,
>>>>>>> 0ae94ebd354c64d16cdd027749df350cfd06e54e
   "metadata": {},
   "outputs": [
    {
     "data": {
      "text/html": [
       "<div>\n",
       "<style scoped>\n",
       "    .dataframe tbody tr th:only-of-type {\n",
       "        vertical-align: middle;\n",
       "    }\n",
       "\n",
       "    .dataframe tbody tr th {\n",
       "        vertical-align: top;\n",
       "    }\n",
       "\n",
       "    .dataframe thead th {\n",
       "        text-align: right;\n",
       "    }\n",
       "</style>\n",
       "<table border=\"1\" class=\"dataframe\">\n",
       "  <thead>\n",
       "    <tr style=\"text-align: right;\">\n",
       "      <th>type</th>\n",
       "      <th>Rural</th>\n",
       "      <th>Suburban</th>\n",
       "      <th>Urban</th>\n",
       "    </tr>\n",
       "    <tr>\n",
       "      <th>date</th>\n",
       "      <th></th>\n",
       "      <th></th>\n",
       "      <th></th>\n",
       "    </tr>\n",
       "  </thead>\n",
       "  <tbody>\n",
       "    <tr>\n",
       "      <th>2019-01-01 00:08:00</th>\n",
       "      <td>NaN</td>\n",
       "      <td>NaN</td>\n",
       "      <td>37.91</td>\n",
       "    </tr>\n",
       "    <tr>\n",
       "      <th>2019-01-01 00:46:00</th>\n",
       "      <td>NaN</td>\n",
       "      <td>47.74</td>\n",
       "      <td>NaN</td>\n",
       "    </tr>\n",
       "    <tr>\n",
       "      <th>2019-01-01 12:32:00</th>\n",
       "      <td>NaN</td>\n",
       "      <td>25.56</td>\n",
       "      <td>NaN</td>\n",
       "    </tr>\n",
       "    <tr>\n",
       "      <th>2019-01-01 14:40:00</th>\n",
       "      <td>NaN</td>\n",
       "      <td>NaN</td>\n",
       "      <td>5.42</td>\n",
       "    </tr>\n",
       "    <tr>\n",
       "      <th>2019-01-01 14:42:00</th>\n",
       "      <td>NaN</td>\n",
       "      <td>NaN</td>\n",
       "      <td>12.31</td>\n",
       "    </tr>\n",
       "    <tr>\n",
       "      <th>...</th>\n",
       "      <td>...</td>\n",
       "      <td>...</td>\n",
       "      <td>...</td>\n",
       "    </tr>\n",
       "    <tr>\n",
       "      <th>2019-04-28 04:34:00</th>\n",
       "      <td>NaN</td>\n",
       "      <td>NaN</td>\n",
       "      <td>40.46</td>\n",
       "    </tr>\n",
       "    <tr>\n",
       "      <th>2019-04-28 08:15:00</th>\n",
       "      <td>NaN</td>\n",
       "      <td>NaN</td>\n",
       "      <td>22.86</td>\n",
       "    </tr>\n",
       "    <tr>\n",
       "      <th>2019-04-28 09:03:00</th>\n",
       "      <td>NaN</td>\n",
       "      <td>NaN</td>\n",
       "      <td>15.00</td>\n",
       "    </tr>\n",
       "    <tr>\n",
       "      <th>2019-04-28 09:10:00</th>\n",
       "      <td>NaN</td>\n",
       "      <td>NaN</td>\n",
       "      <td>5.73</td>\n",
       "    </tr>\n",
       "    <tr>\n",
       "      <th>2019-04-28 09:25:00</th>\n",
       "      <td>NaN</td>\n",
       "      <td>NaN</td>\n",
       "      <td>37.35</td>\n",
       "    </tr>\n",
       "  </tbody>\n",
       "</table>\n",
       "<p>2057 rows × 3 columns</p>\n",
       "</div>"
      ],
      "text/plain": [
       "type                 Rural  Suburban  Urban\n",
       "date                                       \n",
       "2019-01-01 00:08:00    NaN       NaN  37.91\n",
       "2019-01-01 00:46:00    NaN     47.74    NaN\n",
       "2019-01-01 12:32:00    NaN     25.56    NaN\n",
       "2019-01-01 14:40:00    NaN       NaN   5.42\n",
       "2019-01-01 14:42:00    NaN       NaN  12.31\n",
       "...                    ...       ...    ...\n",
       "2019-04-28 04:34:00    NaN       NaN  40.46\n",
       "2019-04-28 08:15:00    NaN       NaN  22.86\n",
       "2019-04-28 09:03:00    NaN       NaN  15.00\n",
       "2019-04-28 09:10:00    NaN       NaN   5.73\n",
       "2019-04-28 09:25:00    NaN       NaN  37.35\n",
       "\n",
       "[2057 rows x 3 columns]"
      ]
     },
<<<<<<< HEAD
     "execution_count": 18,
=======
     "execution_count": 441,
>>>>>>> 0ae94ebd354c64d16cdd027749df350cfd06e54e
     "metadata": {},
     "output_type": "execute_result"
    }
   ],
   "source": [
    "# 6. Set the \"date\" index to datetime datatype. This is necessary to use the resample() method in Step 8.\n",
    "# df.index = pd.to_datetime(df.index)\n",
    "\n",
    "first_4months_fare_per_date.index = pd.to_datetime(first_4months_fare_per_date.index)\n",
    "\n",
    "\n",
    "first_4months_fare_per_date\n",
    "\n"
   ]
  },
  {
   "cell_type": "code",
<<<<<<< HEAD
   "execution_count": 19,
=======
   "execution_count": 442,
>>>>>>> 0ae94ebd354c64d16cdd027749df350cfd06e54e
   "metadata": {},
   "outputs": [
    {
     "name": "stdout",
     "output_type": "stream",
     "text": [
      "<class 'pandas.core.frame.DataFrame'>\n",
      "DatetimeIndex: 2057 entries, 2019-01-01 00:08:00 to 2019-04-28 09:25:00\n",
      "Data columns (total 3 columns):\n",
      " #   Column    Non-Null Count  Dtype  \n",
      "---  ------    --------------  -----  \n",
      " 0   Rural     105 non-null    float64\n",
      " 1   Suburban  538 non-null    float64\n",
      " 2   Urban     1416 non-null   float64\n",
      "dtypes: float64(3)\n",
      "memory usage: 64.3 KB\n"
     ]
    }
   ],
   "source": [
    "# 7. Check that the datatype for the index is datetime using df.info()\n",
    "\n",
    "first_4months_fare_per_date.info()"
   ]
  },
  {
   "cell_type": "code",
<<<<<<< HEAD
   "execution_count": 20,
=======
   "execution_count": 443,
>>>>>>> 0ae94ebd354c64d16cdd027749df350cfd06e54e
   "metadata": {},
   "outputs": [
    {
     "data": {
      "text/html": [
       "<div>\n",
       "<style scoped>\n",
       "    .dataframe tbody tr th:only-of-type {\n",
       "        vertical-align: middle;\n",
       "    }\n",
       "\n",
       "    .dataframe tbody tr th {\n",
       "        vertical-align: top;\n",
       "    }\n",
       "\n",
       "    .dataframe thead th {\n",
       "        text-align: right;\n",
       "    }\n",
       "</style>\n",
       "<table border=\"1\" class=\"dataframe\">\n",
       "  <thead>\n",
       "    <tr style=\"text-align: right;\">\n",
       "      <th>type</th>\n",
       "      <th>Rural</th>\n",
       "      <th>Suburban</th>\n",
       "      <th>Urban</th>\n",
       "    </tr>\n",
       "    <tr>\n",
       "      <th>date</th>\n",
       "      <th></th>\n",
       "      <th></th>\n",
       "      <th></th>\n",
       "    </tr>\n",
       "  </thead>\n",
       "  <tbody>\n",
       "    <tr>\n",
       "      <th>2019-01-06</th>\n",
       "      <td>187.92</td>\n",
       "      <td>721.60</td>\n",
       "      <td>1661.68</td>\n",
       "    </tr>\n",
       "    <tr>\n",
       "      <th>2019-01-13</th>\n",
       "      <td>67.65</td>\n",
       "      <td>1105.13</td>\n",
       "      <td>2050.43</td>\n",
       "    </tr>\n",
       "    <tr>\n",
       "      <th>2019-01-20</th>\n",
       "      <td>306.00</td>\n",
       "      <td>1218.20</td>\n",
       "      <td>1939.02</td>\n",
       "    </tr>\n",
       "    <tr>\n",
       "      <th>2019-01-27</th>\n",
       "      <td>179.69</td>\n",
       "      <td>1203.28</td>\n",
       "      <td>2129.51</td>\n",
       "    </tr>\n",
       "    <tr>\n",
       "      <th>2019-02-03</th>\n",
       "      <td>333.08</td>\n",
       "      <td>1042.79</td>\n",
       "      <td>2086.94</td>\n",
       "    </tr>\n",
       "    <tr>\n",
       "      <th>2019-02-10</th>\n",
       "      <td>115.80</td>\n",
       "      <td>974.34</td>\n",
       "      <td>2162.64</td>\n",
       "    </tr>\n",
       "    <tr>\n",
       "      <th>2019-02-17</th>\n",
       "      <td>95.82</td>\n",
       "      <td>1045.50</td>\n",
       "      <td>2235.07</td>\n",
       "    </tr>\n",
       "    <tr>\n",
       "      <th>2019-02-24</th>\n",
       "      <td>419.06</td>\n",
       "      <td>1412.74</td>\n",
       "      <td>2466.29</td>\n",
       "    </tr>\n",
       "    <tr>\n",
       "      <th>2019-03-03</th>\n",
       "      <td>175.14</td>\n",
       "      <td>858.46</td>\n",
       "      <td>2218.20</td>\n",
       "    </tr>\n",
       "    <tr>\n",
       "      <th>2019-03-10</th>\n",
       "      <td>303.94</td>\n",
       "      <td>925.27</td>\n",
       "      <td>2470.93</td>\n",
       "    </tr>\n",
       "    <tr>\n",
       "      <th>2019-03-17</th>\n",
       "      <td>163.39</td>\n",
       "      <td>906.20</td>\n",
       "      <td>2044.42</td>\n",
       "    </tr>\n",
       "    <tr>\n",
       "      <th>2019-03-24</th>\n",
       "      <td>189.76</td>\n",
       "      <td>1122.20</td>\n",
       "      <td>2368.37</td>\n",
       "    </tr>\n",
       "    <tr>\n",
       "      <th>2019-03-31</th>\n",
       "      <td>199.42</td>\n",
       "      <td>1045.06</td>\n",
       "      <td>1942.77</td>\n",
       "    </tr>\n",
       "    <tr>\n",
       "      <th>2019-04-07</th>\n",
       "      <td>177.65</td>\n",
       "      <td>354.49</td>\n",
       "      <td>613.93</td>\n",
       "    </tr>\n",
       "    <tr>\n",
       "      <th>2019-04-14</th>\n",
       "      <td>214.60</td>\n",
       "      <td>568.47</td>\n",
       "      <td>2024.25</td>\n",
       "    </tr>\n",
       "    <tr>\n",
       "      <th>2019-04-21</th>\n",
       "      <td>214.14</td>\n",
       "      <td>1149.27</td>\n",
       "      <td>2303.80</td>\n",
       "    </tr>\n",
       "    <tr>\n",
       "      <th>2019-04-28</th>\n",
       "      <td>191.85</td>\n",
       "      <td>1357.75</td>\n",
       "      <td>2238.29</td>\n",
       "    </tr>\n",
       "  </tbody>\n",
       "</table>\n",
       "</div>"
      ],
      "text/plain": [
       "type         Rural  Suburban    Urban\n",
       "date                                 \n",
       "2019-01-06  187.92    721.60  1661.68\n",
       "2019-01-13   67.65   1105.13  2050.43\n",
       "2019-01-20  306.00   1218.20  1939.02\n",
       "2019-01-27  179.69   1203.28  2129.51\n",
       "2019-02-03  333.08   1042.79  2086.94\n",
       "2019-02-10  115.80    974.34  2162.64\n",
       "2019-02-17   95.82   1045.50  2235.07\n",
       "2019-02-24  419.06   1412.74  2466.29\n",
       "2019-03-03  175.14    858.46  2218.20\n",
       "2019-03-10  303.94    925.27  2470.93\n",
       "2019-03-17  163.39    906.20  2044.42\n",
       "2019-03-24  189.76   1122.20  2368.37\n",
       "2019-03-31  199.42   1045.06  1942.77\n",
       "2019-04-07  177.65    354.49   613.93\n",
       "2019-04-14  214.60    568.47  2024.25\n",
       "2019-04-21  214.14   1149.27  2303.80\n",
       "2019-04-28  191.85   1357.75  2238.29"
      ]
     },
<<<<<<< HEAD
     "execution_count": 20,
=======
     "execution_count": 443,
>>>>>>> 0ae94ebd354c64d16cdd027749df350cfd06e54e
     "metadata": {},
     "output_type": "execute_result"
    }
   ],
   "source": [
    "# 8. Create a new DataFrame using the \"resample()\" function by week 'W' and get the sum of the fares for each week.\n",
    "weekly_fare_per_date_4months = first_4months_fare_per_date.resample('W').sum()\n",
    "\n",
    "weekly_fare_per_date_4months"
   ]
  },
  {
   "cell_type": "code",
<<<<<<< HEAD
   "execution_count": 21,
=======
   "execution_count": 444,
>>>>>>> 0ae94ebd354c64d16cdd027749df350cfd06e54e
   "metadata": {
    "scrolled": true
   },
   "outputs": [
    {
     "data": {
<<<<<<< HEAD
      "image/png": "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\n",
=======
      "image/png": "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\n",
>>>>>>> 0ae94ebd354c64d16cdd027749df350cfd06e54e
      "text/plain": [
       "<Figure size 1440x432 with 1 Axes>"
      ]
     },
     "metadata": {
      "needs_background": "light"
     },
     "output_type": "display_data"
    }
   ],
   "source": [
    "# 8. Using the object-oriented interface method, plot the resample DataFrame using the df.plot() function. \n",
    "# Import the style from Matplotlib.\n",
    "from matplotlib import style\n",
    "import matplotlib.dates as dates\n",
    "from matplotlib.dates import DateFormatter\n",
    "\n",
    "\n",
    "\n",
    "fig, ax = plt.subplots(figsize=(20, 6))\n",
    "ax.plot(weekly_fare_per_date_4months, label = \"type\")\n",
    "ax.legend([\"Rural\",\"Suburban\",\"Urban\"])\n",
    "ax.set_title(\"Total Fare by City Type\")\n",
    "ax.set_ylabel(\"Fare($)\")\n",
    "ax.xaxis.set_major_locator(dates.MonthLocator(bymonthday=7))\n",
    "ax.xaxis.set_major_formatter(dates.DateFormatter('%b'))\n",
    "\n",
    "# Use the graph style fivethirtyeight.\n",
    "style.use('fivethirtyeight')\n",
    "\n",
    "# Use the appropriate code to save the figure as PyBer_fare_summary.png in your \"analysis\" folder.\n",
    "plt.savefig(\"analysis/PyBer_fare_summary.png\")\n"
   ]
  },
  {
   "cell_type": "code",
   "execution_count": null,
   "metadata": {},
   "outputs": [],
   "source": []
  },
  {
   "cell_type": "code",
   "execution_count": null,
   "metadata": {},
   "outputs": [],
   "source": []
  },
  {
   "cell_type": "code",
   "execution_count": null,
   "metadata": {},
   "outputs": [],
   "source": []
  }
 ],
 "metadata": {
  "anaconda-cloud": {},
  "kernelspec": {
   "display_name": "PythonData",
   "language": "python",
   "name": "pythondata"
  },
  "language_info": {
   "codemirror_mode": {
    "name": "ipython",
    "version": 3
   },
   "file_extension": ".py",
   "mimetype": "text/x-python",
   "name": "python",
   "nbconvert_exporter": "python",
   "pygments_lexer": "ipython3",
   "version": "3.7.11"
  }
 },
 "nbformat": 4,
 "nbformat_minor": 2
}
